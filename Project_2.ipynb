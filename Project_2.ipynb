{
  "nbformat": 4,
  "nbformat_minor": 0,
  "metadata": {
    "colab": {
      "name": "Project 2.ipynb",
      "provenance": [],
      "toc_visible": true,
      "authorship_tag": "ABX9TyP+iNZuQZcHQ7s7kPa4g0U/",
      "include_colab_link": true
    },
    "kernelspec": {
      "name": "python3",
      "display_name": "Python 3"
    },
    "language_info": {
      "name": "python"
    }
  },
  "cells": [
    {
      "cell_type": "markdown",
      "metadata": {
        "id": "view-in-github",
        "colab_type": "text"
      },
      "source": [
        "<a href=\"https://colab.research.google.com/github/hport15/salary-prediction/blob/main/Project_2.ipynb\" target=\"_parent\"><img src=\"https://colab.research.google.com/assets/colab-badge.svg\" alt=\"Open In Colab\"/></a>"
      ]
    },
    {
      "cell_type": "code",
      "source": [
        "from google.colab import drive\n",
        "drive.mount('/content/drive')"
      ],
      "metadata": {
        "colab": {
          "base_uri": "https://localhost:8080/"
        },
        "id": "Fe6eznypNsuO",
        "outputId": "1579e3e0-7195-428c-af8b-9cee8718402f"
      },
      "execution_count": 88,
      "outputs": [
        {
          "output_type": "stream",
          "name": "stdout",
          "text": [
            "Drive already mounted at /content/drive; to attempt to forcibly remount, call drive.mount(\"/content/drive\", force_remount=True).\n"
          ]
        }
      ]
    },
    {
      "cell_type": "code",
      "source": [
        "import pandas as pd\n",
        "path = '/content/drive/MyDrive/Data Science/Data/salary.csv'\n",
        "df = pd.read_csv(path)\n",
        "df.head()"
      ],
      "metadata": {
        "colab": {
          "base_uri": "https://localhost:8080/",
          "height": 387
        },
        "id": "0dY-U75_N2RS",
        "outputId": "8b84bdb9-73fb-4b08-ff0d-add24a637a01"
      },
      "execution_count": 89,
      "outputs": [
        {
          "output_type": "execute_result",
          "data": {
            "text/plain": [
              "   age          workclass  fnlwgt   education  education-num  \\\n",
              "0   39          State-gov   77516   Bachelors             13   \n",
              "1   50   Self-emp-not-inc   83311   Bachelors             13   \n",
              "2   38            Private  215646     HS-grad              9   \n",
              "3   53            Private  234721        11th              7   \n",
              "4   28            Private  338409   Bachelors             13   \n",
              "\n",
              "        marital-status          occupation    relationship    race      sex  \\\n",
              "0        Never-married        Adm-clerical   Not-in-family   White     Male   \n",
              "1   Married-civ-spouse     Exec-managerial         Husband   White     Male   \n",
              "2             Divorced   Handlers-cleaners   Not-in-family   White     Male   \n",
              "3   Married-civ-spouse   Handlers-cleaners         Husband   Black     Male   \n",
              "4   Married-civ-spouse      Prof-specialty            Wife   Black   Female   \n",
              "\n",
              "   capital-gain  capital-loss  hours-per-week  native-country  salary  \n",
              "0          2174             0              40   United-States   <=50K  \n",
              "1             0             0              13   United-States   <=50K  \n",
              "2             0             0              40   United-States   <=50K  \n",
              "3             0             0              40   United-States   <=50K  \n",
              "4             0             0              40            Cuba   <=50K  "
            ],
            "text/html": [
              "\n",
              "  <div id=\"df-537ef93d-33c6-40d5-be17-6181dc3989bc\">\n",
              "    <div class=\"colab-df-container\">\n",
              "      <div>\n",
              "<style scoped>\n",
              "    .dataframe tbody tr th:only-of-type {\n",
              "        vertical-align: middle;\n",
              "    }\n",
              "\n",
              "    .dataframe tbody tr th {\n",
              "        vertical-align: top;\n",
              "    }\n",
              "\n",
              "    .dataframe thead th {\n",
              "        text-align: right;\n",
              "    }\n",
              "</style>\n",
              "<table border=\"1\" class=\"dataframe\">\n",
              "  <thead>\n",
              "    <tr style=\"text-align: right;\">\n",
              "      <th></th>\n",
              "      <th>age</th>\n",
              "      <th>workclass</th>\n",
              "      <th>fnlwgt</th>\n",
              "      <th>education</th>\n",
              "      <th>education-num</th>\n",
              "      <th>marital-status</th>\n",
              "      <th>occupation</th>\n",
              "      <th>relationship</th>\n",
              "      <th>race</th>\n",
              "      <th>sex</th>\n",
              "      <th>capital-gain</th>\n",
              "      <th>capital-loss</th>\n",
              "      <th>hours-per-week</th>\n",
              "      <th>native-country</th>\n",
              "      <th>salary</th>\n",
              "    </tr>\n",
              "  </thead>\n",
              "  <tbody>\n",
              "    <tr>\n",
              "      <th>0</th>\n",
              "      <td>39</td>\n",
              "      <td>State-gov</td>\n",
              "      <td>77516</td>\n",
              "      <td>Bachelors</td>\n",
              "      <td>13</td>\n",
              "      <td>Never-married</td>\n",
              "      <td>Adm-clerical</td>\n",
              "      <td>Not-in-family</td>\n",
              "      <td>White</td>\n",
              "      <td>Male</td>\n",
              "      <td>2174</td>\n",
              "      <td>0</td>\n",
              "      <td>40</td>\n",
              "      <td>United-States</td>\n",
              "      <td>&lt;=50K</td>\n",
              "    </tr>\n",
              "    <tr>\n",
              "      <th>1</th>\n",
              "      <td>50</td>\n",
              "      <td>Self-emp-not-inc</td>\n",
              "      <td>83311</td>\n",
              "      <td>Bachelors</td>\n",
              "      <td>13</td>\n",
              "      <td>Married-civ-spouse</td>\n",
              "      <td>Exec-managerial</td>\n",
              "      <td>Husband</td>\n",
              "      <td>White</td>\n",
              "      <td>Male</td>\n",
              "      <td>0</td>\n",
              "      <td>0</td>\n",
              "      <td>13</td>\n",
              "      <td>United-States</td>\n",
              "      <td>&lt;=50K</td>\n",
              "    </tr>\n",
              "    <tr>\n",
              "      <th>2</th>\n",
              "      <td>38</td>\n",
              "      <td>Private</td>\n",
              "      <td>215646</td>\n",
              "      <td>HS-grad</td>\n",
              "      <td>9</td>\n",
              "      <td>Divorced</td>\n",
              "      <td>Handlers-cleaners</td>\n",
              "      <td>Not-in-family</td>\n",
              "      <td>White</td>\n",
              "      <td>Male</td>\n",
              "      <td>0</td>\n",
              "      <td>0</td>\n",
              "      <td>40</td>\n",
              "      <td>United-States</td>\n",
              "      <td>&lt;=50K</td>\n",
              "    </tr>\n",
              "    <tr>\n",
              "      <th>3</th>\n",
              "      <td>53</td>\n",
              "      <td>Private</td>\n",
              "      <td>234721</td>\n",
              "      <td>11th</td>\n",
              "      <td>7</td>\n",
              "      <td>Married-civ-spouse</td>\n",
              "      <td>Handlers-cleaners</td>\n",
              "      <td>Husband</td>\n",
              "      <td>Black</td>\n",
              "      <td>Male</td>\n",
              "      <td>0</td>\n",
              "      <td>0</td>\n",
              "      <td>40</td>\n",
              "      <td>United-States</td>\n",
              "      <td>&lt;=50K</td>\n",
              "    </tr>\n",
              "    <tr>\n",
              "      <th>4</th>\n",
              "      <td>28</td>\n",
              "      <td>Private</td>\n",
              "      <td>338409</td>\n",
              "      <td>Bachelors</td>\n",
              "      <td>13</td>\n",
              "      <td>Married-civ-spouse</td>\n",
              "      <td>Prof-specialty</td>\n",
              "      <td>Wife</td>\n",
              "      <td>Black</td>\n",
              "      <td>Female</td>\n",
              "      <td>0</td>\n",
              "      <td>0</td>\n",
              "      <td>40</td>\n",
              "      <td>Cuba</td>\n",
              "      <td>&lt;=50K</td>\n",
              "    </tr>\n",
              "  </tbody>\n",
              "</table>\n",
              "</div>\n",
              "      <button class=\"colab-df-convert\" onclick=\"convertToInteractive('df-537ef93d-33c6-40d5-be17-6181dc3989bc')\"\n",
              "              title=\"Convert this dataframe to an interactive table.\"\n",
              "              style=\"display:none;\">\n",
              "        \n",
              "  <svg xmlns=\"http://www.w3.org/2000/svg\" height=\"24px\"viewBox=\"0 0 24 24\"\n",
              "       width=\"24px\">\n",
              "    <path d=\"M0 0h24v24H0V0z\" fill=\"none\"/>\n",
              "    <path d=\"M18.56 5.44l.94 2.06.94-2.06 2.06-.94-2.06-.94-.94-2.06-.94 2.06-2.06.94zm-11 1L8.5 8.5l.94-2.06 2.06-.94-2.06-.94L8.5 2.5l-.94 2.06-2.06.94zm10 10l.94 2.06.94-2.06 2.06-.94-2.06-.94-.94-2.06-.94 2.06-2.06.94z\"/><path d=\"M17.41 7.96l-1.37-1.37c-.4-.4-.92-.59-1.43-.59-.52 0-1.04.2-1.43.59L10.3 9.45l-7.72 7.72c-.78.78-.78 2.05 0 2.83L4 21.41c.39.39.9.59 1.41.59.51 0 1.02-.2 1.41-.59l7.78-7.78 2.81-2.81c.8-.78.8-2.07 0-2.86zM5.41 20L4 18.59l7.72-7.72 1.47 1.35L5.41 20z\"/>\n",
              "  </svg>\n",
              "      </button>\n",
              "      \n",
              "  <style>\n",
              "    .colab-df-container {\n",
              "      display:flex;\n",
              "      flex-wrap:wrap;\n",
              "      gap: 12px;\n",
              "    }\n",
              "\n",
              "    .colab-df-convert {\n",
              "      background-color: #E8F0FE;\n",
              "      border: none;\n",
              "      border-radius: 50%;\n",
              "      cursor: pointer;\n",
              "      display: none;\n",
              "      fill: #1967D2;\n",
              "      height: 32px;\n",
              "      padding: 0 0 0 0;\n",
              "      width: 32px;\n",
              "    }\n",
              "\n",
              "    .colab-df-convert:hover {\n",
              "      background-color: #E2EBFA;\n",
              "      box-shadow: 0px 1px 2px rgba(60, 64, 67, 0.3), 0px 1px 3px 1px rgba(60, 64, 67, 0.15);\n",
              "      fill: #174EA6;\n",
              "    }\n",
              "\n",
              "    [theme=dark] .colab-df-convert {\n",
              "      background-color: #3B4455;\n",
              "      fill: #D2E3FC;\n",
              "    }\n",
              "\n",
              "    [theme=dark] .colab-df-convert:hover {\n",
              "      background-color: #434B5C;\n",
              "      box-shadow: 0px 1px 3px 1px rgba(0, 0, 0, 0.15);\n",
              "      filter: drop-shadow(0px 1px 2px rgba(0, 0, 0, 0.3));\n",
              "      fill: #FFFFFF;\n",
              "    }\n",
              "  </style>\n",
              "\n",
              "      <script>\n",
              "        const buttonEl =\n",
              "          document.querySelector('#df-537ef93d-33c6-40d5-be17-6181dc3989bc button.colab-df-convert');\n",
              "        buttonEl.style.display =\n",
              "          google.colab.kernel.accessAllowed ? 'block' : 'none';\n",
              "\n",
              "        async function convertToInteractive(key) {\n",
              "          const element = document.querySelector('#df-537ef93d-33c6-40d5-be17-6181dc3989bc');\n",
              "          const dataTable =\n",
              "            await google.colab.kernel.invokeFunction('convertToInteractive',\n",
              "                                                     [key], {});\n",
              "          if (!dataTable) return;\n",
              "\n",
              "          const docLinkHtml = 'Like what you see? Visit the ' +\n",
              "            '<a target=\"_blank\" href=https://colab.research.google.com/notebooks/data_table.ipynb>data table notebook</a>'\n",
              "            + ' to learn more about interactive tables.';\n",
              "          element.innerHTML = '';\n",
              "          dataTable['output_type'] = 'display_data';\n",
              "          await google.colab.output.renderOutput(dataTable, element);\n",
              "          const docLink = document.createElement('div');\n",
              "          docLink.innerHTML = docLinkHtml;\n",
              "          element.appendChild(docLink);\n",
              "        }\n",
              "      </script>\n",
              "    </div>\n",
              "  </div>\n",
              "  "
            ]
          },
          "metadata": {},
          "execution_count": 89
        }
      ]
    },
    {
      "cell_type": "code",
      "execution_count": 90,
      "metadata": {
        "id": "-TUUXi_XBAlF",
        "colab": {
          "base_uri": "https://localhost:8080/",
          "height": 71
        },
        "outputId": "c3b7a539-59cb-4c79-e448-12551af786b7"
      },
      "outputs": [
        {
          "output_type": "execute_result",
          "data": {
            "text/plain": [
              "\" \\n1. Kaggle (also in uci repository)\\n2. 1994 census data for determining someone's salary\\n3. salary -- over or under 50k\\n4. classification\\n5. 14\\n6. 32561\\n7. There are a lot of different classes within several of the columns so I'm concerned the model will take a long time to run and\\nbe prone to overfitting.\\n\\n\""
            ],
            "application/vnd.google.colaboratory.intrinsic+json": {
              "type": "string"
            }
          },
          "metadata": {},
          "execution_count": 90
        }
      ],
      "source": [
        "# will rename file once dataset is finalized\n",
        "\n",
        "\"\"\" \n",
        "1. Kaggle (also in uci repository)\n",
        "2. 1994 census data for determining someone's salary\n",
        "3. salary -- over or under 50k\n",
        "4. classification\n",
        "5. 14\n",
        "6. 32561\n",
        "7. There are a lot of different classes within several of the columns so I'm concerned the model will take a long time to run and\n",
        "be prone to overfitting.\n",
        "\n",
        "\"\"\""
      ]
    },
    {
      "cell_type": "markdown",
      "source": [
        "# Part 2 - Data Cleaning"
      ],
      "metadata": {
        "id": "kCUreRh9XDLE"
      }
    },
    {
      "cell_type": "code",
      "source": [
        "df.info()"
      ],
      "metadata": {
        "id": "M-SJUuZXXYyo",
        "outputId": "7e2e3985-288d-4fb7-c1eb-b413a9d427fa",
        "colab": {
          "base_uri": "https://localhost:8080/"
        }
      },
      "execution_count": 91,
      "outputs": [
        {
          "output_type": "stream",
          "name": "stdout",
          "text": [
            "<class 'pandas.core.frame.DataFrame'>\n",
            "RangeIndex: 32561 entries, 0 to 32560\n",
            "Data columns (total 15 columns):\n",
            " #   Column          Non-Null Count  Dtype \n",
            "---  ------          --------------  ----- \n",
            " 0   age             32561 non-null  int64 \n",
            " 1   workclass       32561 non-null  object\n",
            " 2   fnlwgt          32561 non-null  int64 \n",
            " 3   education       32561 non-null  object\n",
            " 4   education-num   32561 non-null  int64 \n",
            " 5   marital-status  32561 non-null  object\n",
            " 6   occupation      32561 non-null  object\n",
            " 7   relationship    32561 non-null  object\n",
            " 8   race            32561 non-null  object\n",
            " 9   sex             32561 non-null  object\n",
            " 10  capital-gain    32561 non-null  int64 \n",
            " 11  capital-loss    32561 non-null  int64 \n",
            " 12  hours-per-week  32561 non-null  int64 \n",
            " 13  native-country  32561 non-null  object\n",
            " 14  salary          32561 non-null  object\n",
            "dtypes: int64(6), object(9)\n",
            "memory usage: 3.7+ MB\n"
          ]
        }
      ]
    },
    {
      "cell_type": "code",
      "source": [
        "# checking for missing data\n",
        "df.isna().sum()"
      ],
      "metadata": {
        "id": "yzQqfUoJXGO_",
        "outputId": "2f48e2bb-1b91-4d47-a5bc-b8c89410d1a1",
        "colab": {
          "base_uri": "https://localhost:8080/"
        }
      },
      "execution_count": 92,
      "outputs": [
        {
          "output_type": "execute_result",
          "data": {
            "text/plain": [
              "age               0\n",
              "workclass         0\n",
              "fnlwgt            0\n",
              "education         0\n",
              "education-num     0\n",
              "marital-status    0\n",
              "occupation        0\n",
              "relationship      0\n",
              "race              0\n",
              "sex               0\n",
              "capital-gain      0\n",
              "capital-loss      0\n",
              "hours-per-week    0\n",
              "native-country    0\n",
              "salary            0\n",
              "dtype: int64"
            ]
          },
          "metadata": {},
          "execution_count": 92
        }
      ]
    },
    {
      "cell_type": "code",
      "source": [
        "# checking for duplicates\n",
        "df.duplicated().sum()"
      ],
      "metadata": {
        "id": "2gsp3NY2XMpr",
        "outputId": "64a0f7d8-be8b-4f23-932c-40814e7254a4",
        "colab": {
          "base_uri": "https://localhost:8080/"
        }
      },
      "execution_count": 93,
      "outputs": [
        {
          "output_type": "execute_result",
          "data": {
            "text/plain": [
              "24"
            ]
          },
          "metadata": {},
          "execution_count": 93
        }
      ]
    },
    {
      "cell_type": "code",
      "source": [
        "# removing duplicates\n",
        "df = df.drop_duplicates()\n",
        "df.info()"
      ],
      "metadata": {
        "id": "zqKNwjgsXScL",
        "outputId": "6161a4cc-734a-4606-cb6d-8f8b9ee460cc",
        "colab": {
          "base_uri": "https://localhost:8080/"
        }
      },
      "execution_count": 94,
      "outputs": [
        {
          "output_type": "stream",
          "name": "stdout",
          "text": [
            "<class 'pandas.core.frame.DataFrame'>\n",
            "Int64Index: 32537 entries, 0 to 32560\n",
            "Data columns (total 15 columns):\n",
            " #   Column          Non-Null Count  Dtype \n",
            "---  ------          --------------  ----- \n",
            " 0   age             32537 non-null  int64 \n",
            " 1   workclass       32537 non-null  object\n",
            " 2   fnlwgt          32537 non-null  int64 \n",
            " 3   education       32537 non-null  object\n",
            " 4   education-num   32537 non-null  int64 \n",
            " 5   marital-status  32537 non-null  object\n",
            " 6   occupation      32537 non-null  object\n",
            " 7   relationship    32537 non-null  object\n",
            " 8   race            32537 non-null  object\n",
            " 9   sex             32537 non-null  object\n",
            " 10  capital-gain    32537 non-null  int64 \n",
            " 11  capital-loss    32537 non-null  int64 \n",
            " 12  hours-per-week  32537 non-null  int64 \n",
            " 13  native-country  32537 non-null  object\n",
            " 14  salary          32537 non-null  object\n",
            "dtypes: int64(6), object(9)\n",
            "memory usage: 4.0+ MB\n"
          ]
        }
      ]
    },
    {
      "cell_type": "code",
      "source": [
        "df['capital-gain'].value_counts()"
      ],
      "metadata": {
        "id": "BFQlJVf9aePC",
        "outputId": "0b8b0461-caa5-4d9b-9b06-81c8ef372705",
        "colab": {
          "base_uri": "https://localhost:8080/"
        }
      },
      "execution_count": 95,
      "outputs": [
        {
          "output_type": "execute_result",
          "data": {
            "text/plain": [
              "0        29825\n",
              "15024      347\n",
              "7688       284\n",
              "7298       246\n",
              "99999      159\n",
              "         ...  \n",
              "1111         1\n",
              "2538         1\n",
              "22040        1\n",
              "4931         1\n",
              "5060         1\n",
              "Name: capital-gain, Length: 119, dtype: int64"
            ]
          },
          "metadata": {},
          "execution_count": 95
        }
      ]
    },
    {
      "cell_type": "code",
      "source": [
        "df['capital-loss'].value_counts()"
      ],
      "metadata": {
        "id": "5CdNHitGagqf",
        "outputId": "64fe618a-a744-43d2-ae95-327ea41a0fbd",
        "colab": {
          "base_uri": "https://localhost:8080/"
        }
      },
      "execution_count": 96,
      "outputs": [
        {
          "output_type": "execute_result",
          "data": {
            "text/plain": [
              "0       31018\n",
              "1902      202\n",
              "1977      168\n",
              "1887      159\n",
              "1848       51\n",
              "        ...  \n",
              "2080        1\n",
              "1539        1\n",
              "1844        1\n",
              "2489        1\n",
              "1411        1\n",
              "Name: capital-loss, Length: 92, dtype: int64"
            ]
          },
          "metadata": {},
          "execution_count": 96
        }
      ]
    },
    {
      "cell_type": "code",
      "source": [
        "# drop unnecessary columns\n",
        "\"\"\"\n",
        "Going to drop fnlwgt (the number of people the census believes the entry \n",
        "represents), education since education-num basically has the same info, capital-\n",
        "gain, and capital-loss bc majority of those columns are 0.\n",
        "\"\"\"\n",
        "\n",
        "df = df.drop(['fnlwgt', 'education', 'capital-gain', 'capital-loss'], axis=1)\n",
        "df.info()"
      ],
      "metadata": {
        "id": "ItQdLWTpaltI",
        "outputId": "62037183-eba4-4e61-b8ff-845fdd8c22fa",
        "colab": {
          "base_uri": "https://localhost:8080/"
        }
      },
      "execution_count": 97,
      "outputs": [
        {
          "output_type": "stream",
          "name": "stdout",
          "text": [
            "<class 'pandas.core.frame.DataFrame'>\n",
            "Int64Index: 32537 entries, 0 to 32560\n",
            "Data columns (total 11 columns):\n",
            " #   Column          Non-Null Count  Dtype \n",
            "---  ------          --------------  ----- \n",
            " 0   age             32537 non-null  int64 \n",
            " 1   workclass       32537 non-null  object\n",
            " 2   education-num   32537 non-null  int64 \n",
            " 3   marital-status  32537 non-null  object\n",
            " 4   occupation      32537 non-null  object\n",
            " 5   relationship    32537 non-null  object\n",
            " 6   race            32537 non-null  object\n",
            " 7   sex             32537 non-null  object\n",
            " 8   hours-per-week  32537 non-null  int64 \n",
            " 9   native-country  32537 non-null  object\n",
            " 10  salary          32537 non-null  object\n",
            "dtypes: int64(3), object(8)\n",
            "memory usage: 3.0+ MB\n"
          ]
        }
      ]
    },
    {
      "cell_type": "code",
      "source": [
        "# check for inconsistencies in categorical data\n",
        "columns = list(df.columns)\n",
        "catCols = []\n",
        "for col in columns:\n",
        "  if df[col].dtype == 'object':\n",
        "    catCols.append(col)\n",
        "    print(df[col].value_counts())\n",
        "# didn't find any"
      ],
      "metadata": {
        "id": "6LcaQrK_a5x8",
        "outputId": "f59a582f-9695-4d30-db83-e778f800959e",
        "colab": {
          "base_uri": "https://localhost:8080/"
        }
      },
      "execution_count": 98,
      "outputs": [
        {
          "output_type": "stream",
          "name": "stdout",
          "text": [
            " Private             22673\n",
            " Self-emp-not-inc     2540\n",
            " Local-gov            2093\n",
            " ?                    1836\n",
            " State-gov            1298\n",
            " Self-emp-inc         1116\n",
            " Federal-gov           960\n",
            " Without-pay            14\n",
            " Never-worked            7\n",
            "Name: workclass, dtype: int64\n",
            " Married-civ-spouse       14970\n",
            " Never-married            10667\n",
            " Divorced                  4441\n",
            " Separated                 1025\n",
            " Widowed                    993\n",
            " Married-spouse-absent      418\n",
            " Married-AF-spouse           23\n",
            "Name: marital-status, dtype: int64\n",
            " Prof-specialty       4136\n",
            " Craft-repair         4094\n",
            " Exec-managerial      4065\n",
            " Adm-clerical         3768\n",
            " Sales                3650\n",
            " Other-service        3291\n",
            " Machine-op-inspct    2000\n",
            " ?                    1843\n",
            " Transport-moving     1597\n",
            " Handlers-cleaners    1369\n",
            " Farming-fishing       992\n",
            " Tech-support          927\n",
            " Protective-serv       649\n",
            " Priv-house-serv       147\n",
            " Armed-Forces            9\n",
            "Name: occupation, dtype: int64\n",
            " Husband           13187\n",
            " Not-in-family      8292\n",
            " Own-child          5064\n",
            " Unmarried          3445\n",
            " Wife               1568\n",
            " Other-relative      981\n",
            "Name: relationship, dtype: int64\n",
            " White                 27795\n",
            " Black                  3122\n",
            " Asian-Pac-Islander     1038\n",
            " Amer-Indian-Eskimo      311\n",
            " Other                   271\n",
            "Name: race, dtype: int64\n",
            " Male      21775\n",
            " Female    10762\n",
            "Name: sex, dtype: int64\n",
            " United-States                 29153\n",
            " Mexico                          639\n",
            " ?                               582\n",
            " Philippines                     198\n",
            " Germany                         137\n",
            " Canada                          121\n",
            " Puerto-Rico                     114\n",
            " El-Salvador                     106\n",
            " India                           100\n",
            " Cuba                             95\n",
            " England                          90\n",
            " Jamaica                          81\n",
            " South                            80\n",
            " China                            75\n",
            " Italy                            73\n",
            " Dominican-Republic               70\n",
            " Vietnam                          67\n",
            " Japan                            62\n",
            " Guatemala                        62\n",
            " Poland                           60\n",
            " Columbia                         59\n",
            " Taiwan                           51\n",
            " Haiti                            44\n",
            " Iran                             43\n",
            " Portugal                         37\n",
            " Nicaragua                        34\n",
            " Peru                             31\n",
            " France                           29\n",
            " Greece                           29\n",
            " Ecuador                          28\n",
            " Ireland                          24\n",
            " Hong                             20\n",
            " Cambodia                         19\n",
            " Trinadad&Tobago                  19\n",
            " Laos                             18\n",
            " Thailand                         18\n",
            " Yugoslavia                       16\n",
            " Outlying-US(Guam-USVI-etc)       14\n",
            " Honduras                         13\n",
            " Hungary                          13\n",
            " Scotland                         12\n",
            " Holand-Netherlands                1\n",
            "Name: native-country, dtype: int64\n",
            " <=50K    24698\n",
            " >50K      7839\n",
            "Name: salary, dtype: int64\n"
          ]
        }
      ]
    },
    {
      "cell_type": "code",
      "source": [
        "df['salary'].value_counts(normalize=True)"
      ],
      "metadata": {
        "id": "pwMFukpKLYH7",
        "outputId": "98f4f952-3090-4906-990f-95268d68d2ef",
        "colab": {
          "base_uri": "https://localhost:8080/"
        }
      },
      "execution_count": 99,
      "outputs": [
        {
          "output_type": "execute_result",
          "data": {
            "text/plain": [
              " <=50K    0.759074\n",
              " >50K     0.240926\n",
              "Name: salary, dtype: float64"
            ]
          },
          "metadata": {},
          "execution_count": 99
        }
      ]
    },
    {
      "cell_type": "markdown",
      "source": [
        "Target is not very balanced"
      ],
      "metadata": {
        "id": "akk68ltbK8Ht"
      }
    },
    {
      "cell_type": "markdown",
      "source": [
        "Univariate Visualizations"
      ],
      "metadata": {
        "id": "IoRg17t1gDuv"
      }
    },
    {
      "cell_type": "code",
      "source": [
        "import matplotlib.pyplot as plt\n",
        "import seaborn as sns\n",
        "# target\n",
        "sns.barplot(df['salary'].index, df['salary'].values)\n",
        "plt.title('Salary Distribution');"
      ],
      "metadata": {
        "id": "7LJONXHdbAoh",
        "outputId": "93dbefe5-3bf0-4be7-faea-362d9805fedb",
        "colab": {
          "base_uri": "https://localhost:8080/",
          "height": 335
        }
      },
      "execution_count": null,
      "outputs": [
        {
          "output_type": "stream",
          "name": "stderr",
          "text": [
            "/usr/local/lib/python3.7/dist-packages/seaborn/_decorators.py:43: FutureWarning: Pass the following variables as keyword args: x, y. From version 0.12, the only valid positional argument will be `data`, and passing other arguments without an explicit keyword will result in an error or misinterpretation.\n",
            "  FutureWarning\n"
          ]
        },
        {
          "output_type": "display_data",
          "data": {
            "text/plain": [
              "<Figure size 432x288 with 1 Axes>"
            ],
            "image/png": "[encoded data removed]"
          },
          "metadata": {
            "needs_background": "light"
          }
        }
      ]
    },
    {
      "cell_type": "code",
      "source": [
        "# age\n",
        "sns.boxplot(df['age']);"
      ],
      "metadata": {
        "id": "U2XoQ6Fsd28v",
        "outputId": "dceff773-501c-4e08-e9d9-02532c4feb47",
        "colab": {
          "base_uri": "https://localhost:8080/",
          "height": 333
        }
      },
      "execution_count": null,
      "outputs": [
        {
          "output_type": "stream",
          "name": "stderr",
          "text": [
            "/usr/local/lib/python3.7/dist-packages/seaborn/_decorators.py:43: FutureWarning: Pass the following variable as a keyword arg: x. From version 0.12, the only valid positional argument will be `data`, and passing other arguments without an explicit keyword will result in an error or misinterpretation.\n",
            "  FutureWarning\n"
          ]
        },
        {
          "output_type": "display_data",
          "data": {
            "text/plain": [
              "<Figure size 432x288 with 1 Axes>"
            ],
            "image/png": "[encoded data removed]"
          },
          "metadata": {
            "needs_background": "light"
          }
        }
      ]
    },
    {
      "cell_type": "markdown",
      "source": [
        "Outliers beyond the max value."
      ],
      "metadata": {
        "id": "4HVkbQzMjgj6"
      }
    },
    {
      "cell_type": "code",
      "source": [
        "# education num\n",
        "sns.boxplot(df['education-num'])\n",
        "plt.xticks(range(0,17));"
      ],
      "metadata": {
        "id": "zDjfFltNgjeU",
        "outputId": "5121d7f0-cd43-438e-a0d2-7e49c0c0e168",
        "colab": {
          "base_uri": "https://localhost:8080/",
          "height": 333
        }
      },
      "execution_count": null,
      "outputs": [
        {
          "output_type": "stream",
          "name": "stderr",
          "text": [
            "/usr/local/lib/python3.7/dist-packages/seaborn/_decorators.py:43: FutureWarning: Pass the following variable as a keyword arg: x. From version 0.12, the only valid positional argument will be `data`, and passing other arguments without an explicit keyword will result in an error or misinterpretation.\n",
            "  FutureWarning\n"
          ]
        },
        {
          "output_type": "display_data",
          "data": {
            "text/plain": [
              "<Figure size 432x288 with 1 Axes>"
            ],
            "image/png": "[encoded data removed]"
          },
          "metadata": {
            "needs_background": "light"
          }
        }
      ]
    },
    {
      "cell_type": "markdown",
      "source": [
        "Outliers less than the min value."
      ],
      "metadata": {
        "id": "eLevv-X_jlky"
      }
    },
    {
      "cell_type": "code",
      "source": [
        "# hours-per-week\n",
        "sns.boxplot(df['hours-per-week']);"
      ],
      "metadata": {
        "id": "080FOcuVhVhJ",
        "outputId": "df6ce75d-07a4-4039-fa1b-5e165f1b890e",
        "colab": {
          "base_uri": "https://localhost:8080/",
          "height": 333
        }
      },
      "execution_count": null,
      "outputs": [
        {
          "output_type": "stream",
          "name": "stderr",
          "text": [
            "/usr/local/lib/python3.7/dist-packages/seaborn/_decorators.py:43: FutureWarning: Pass the following variable as a keyword arg: x. From version 0.12, the only valid positional argument will be `data`, and passing other arguments without an explicit keyword will result in an error or misinterpretation.\n",
            "  FutureWarning\n"
          ]
        },
        {
          "output_type": "display_data",
          "data": {
            "text/plain": [
              "<Figure size 432x288 with 1 Axes>"
            ],
            "image/png": "[encoded data removed]"
          },
          "metadata": {
            "needs_background": "light"
          }
        }
      ]
    },
    {
      "cell_type": "markdown",
      "source": [
        "Outliers less than the min and greater than the max."
      ],
      "metadata": {
        "id": "aa1sHWHqjrYA"
      }
    },
    {
      "cell_type": "code",
      "source": [
        "# workclass\n",
        "sns.barplot(df['workclass'].index, df['workclass'].values);"
      ],
      "metadata": {
        "id": "p2lN9C7Th1De",
        "outputId": "d47fcc6b-f6f1-49e3-b2a9-4b211f403443",
        "colab": {
          "base_uri": "https://localhost:8080/",
          "height": 319
        }
      },
      "execution_count": null,
      "outputs": [
        {
          "output_type": "stream",
          "name": "stderr",
          "text": [
            "/usr/local/lib/python3.7/dist-packages/seaborn/_decorators.py:43: FutureWarning: Pass the following variables as keyword args: x, y. From version 0.12, the only valid positional argument will be `data`, and passing other arguments without an explicit keyword will result in an error or misinterpretation.\n",
            "  FutureWarning\n"
          ]
        },
        {
          "output_type": "display_data",
          "data": {
            "text/plain": [
              "<Figure size 432x288 with 1 Axes>"
            ],
            "image/png": "[encoded data removed]"
          },
          "metadata": {
            "needs_background": "light"
          }
        }
      ]
    },
    {
      "cell_type": "code",
      "source": [
        "# marital status\n",
        "sns.barplot(df['marital-status'].index, df['marital-status'].values);"
      ],
      "metadata": {
        "id": "Azgh68-Xh5eD",
        "outputId": "e507623e-049f-400e-eb23-73385ec6830e",
        "colab": {
          "base_uri": "https://localhost:8080/",
          "height": 319
        }
      },
      "execution_count": null,
      "outputs": [
        {
          "output_type": "stream",
          "name": "stderr",
          "text": [
            "/usr/local/lib/python3.7/dist-packages/seaborn/_decorators.py:43: FutureWarning: Pass the following variables as keyword args: x, y. From version 0.12, the only valid positional argument will be `data`, and passing other arguments without an explicit keyword will result in an error or misinterpretation.\n",
            "  FutureWarning\n"
          ]
        },
        {
          "output_type": "display_data",
          "data": {
            "text/plain": [
              "<Figure size 432x288 with 1 Axes>"
            ],
            "image/png": "[encoded data removed]"
          },
          "metadata": {
            "needs_background": "light"
          }
        }
      ]
    },
    {
      "cell_type": "code",
      "source": [
        "# occupation\n",
        "sns.barplot(df['occupation'].index, df['occupation'].values);"
      ],
      "metadata": {
        "id": "HDILqXRkh-d5",
        "outputId": "0c821455-ed5e-4281-deed-0dba65525d35",
        "colab": {
          "base_uri": "https://localhost:8080/",
          "height": 319
        }
      },
      "execution_count": null,
      "outputs": [
        {
          "output_type": "stream",
          "name": "stderr",
          "text": [
            "/usr/local/lib/python3.7/dist-packages/seaborn/_decorators.py:43: FutureWarning: Pass the following variables as keyword args: x, y. From version 0.12, the only valid positional argument will be `data`, and passing other arguments without an explicit keyword will result in an error or misinterpretation.\n",
            "  FutureWarning\n"
          ]
        },
        {
          "output_type": "display_data",
          "data": {
            "text/plain": [
              "<Figure size 432x288 with 1 Axes>"
            ],
            "image/png": "[encoded data removed]"
          },
          "metadata": {
            "needs_background": "light"
          }
        }
      ]
    },
    {
      "cell_type": "code",
      "source": [
        "# relationship\n",
        "sns.barplot(df['relationship'].index, df['relationship'].values);"
      ],
      "metadata": {
        "id": "BeUOTSWUiUOA",
        "outputId": "84761847-49bf-4af1-eb37-5cfc2c0dae4b",
        "colab": {
          "base_uri": "https://localhost:8080/",
          "height": 319
        }
      },
      "execution_count": null,
      "outputs": [
        {
          "output_type": "stream",
          "name": "stderr",
          "text": [
            "/usr/local/lib/python3.7/dist-packages/seaborn/_decorators.py:43: FutureWarning: Pass the following variables as keyword args: x, y. From version 0.12, the only valid positional argument will be `data`, and passing other arguments without an explicit keyword will result in an error or misinterpretation.\n",
            "  FutureWarning\n"
          ]
        },
        {
          "output_type": "display_data",
          "data": {
            "text/plain": [
              "<Figure size 432x288 with 1 Axes>"
            ],
            "image/png": "[encoded data removed]"
          },
          "metadata": {
            "needs_background": "light"
          }
        }
      ]
    },
    {
      "cell_type": "code",
      "source": [
        "# race\n",
        "sns.barplot(df['race'].index, df['race'].values);"
      ],
      "metadata": {
        "id": "zcdtXrWOiY0J",
        "outputId": "c68dc36d-f0d0-4179-d42b-d776efcc13c4",
        "colab": {
          "base_uri": "https://localhost:8080/",
          "height": 319
        }
      },
      "execution_count": null,
      "outputs": [
        {
          "output_type": "stream",
          "name": "stderr",
          "text": [
            "/usr/local/lib/python3.7/dist-packages/seaborn/_decorators.py:43: FutureWarning: Pass the following variables as keyword args: x, y. From version 0.12, the only valid positional argument will be `data`, and passing other arguments without an explicit keyword will result in an error or misinterpretation.\n",
            "  FutureWarning\n"
          ]
        },
        {
          "output_type": "display_data",
          "data": {
            "text/plain": [
              "<Figure size 432x288 with 1 Axes>"
            ],
            "image/png": "[encoded data removed]"
          },
          "metadata": {
            "needs_background": "light"
          }
        }
      ]
    },
    {
      "cell_type": "code",
      "source": [
        "# sex\n",
        "sns.barplot(df['sex'].index, df['sex'].values);"
      ],
      "metadata": {
        "id": "ObecHhLwidHx",
        "outputId": "e11ed256-5bd4-4809-c81d-1ff6d70dff81",
        "colab": {
          "base_uri": "https://localhost:8080/",
          "height": 319
        }
      },
      "execution_count": null,
      "outputs": [
        {
          "output_type": "stream",
          "name": "stderr",
          "text": [
            "/usr/local/lib/python3.7/dist-packages/seaborn/_decorators.py:43: FutureWarning: Pass the following variables as keyword args: x, y. From version 0.12, the only valid positional argument will be `data`, and passing other arguments without an explicit keyword will result in an error or misinterpretation.\n",
            "  FutureWarning\n"
          ]
        },
        {
          "output_type": "display_data",
          "data": {
            "text/plain": [
              "<Figure size 432x288 with 1 Axes>"
            ],
            "image/png": "[encoded data removed]"
          },
          "metadata": {
            "needs_background": "light"
          }
        }
      ]
    },
    {
      "cell_type": "code",
      "source": [
        "# native country\n",
        "sns.barplot(x=df['native-country'].index, y=df['native-country'].values);"
      ],
      "metadata": {
        "id": "IpUqS3kvinGD",
        "outputId": "d9c4f417-1971-44a6-8754-e7ec7b4842c2",
        "colab": {
          "base_uri": "https://localhost:8080/",
          "height": 267
        }
      },
      "execution_count": null,
      "outputs": [
        {
          "output_type": "display_data",
          "data": {
            "text/plain": [
              "<Figure size 432x288 with 1 Axes>"
            ],
            "image/png": "[encoded data removed]"
          },
          "metadata": {
            "needs_background": "light"
          }
        }
      ]
    },
    {
      "cell_type": "code",
      "source": [
        "df.describe()"
      ],
      "metadata": {
        "id": "d4kKVRNjirgQ",
        "outputId": "be70e170-6711-47d8-ab7a-fbb7403f6c3f",
        "colab": {
          "base_uri": "https://localhost:8080/",
          "height": 297
        }
      },
      "execution_count": null,
      "outputs": [
        {
          "output_type": "execute_result",
          "data": {
            "text/plain": [
              "                age  education-num  hours-per-week\n",
              "count  32537.000000   32537.000000    32537.000000\n",
              "mean      38.585549      10.081815       40.440329\n",
              "std       13.637984       2.571633       12.346889\n",
              "min       17.000000       1.000000        1.000000\n",
              "25%       28.000000       9.000000       40.000000\n",
              "50%       37.000000      10.000000       40.000000\n",
              "75%       48.000000      12.000000       45.000000\n",
              "max       90.000000      16.000000       99.000000"
            ],
            "text/html": [
              "\n",
              "  <div id=\"df-1e8f12a6-344d-4b4f-9a3b-a2a22648bc0e\">\n",
              "    <div class=\"colab-df-container\">\n",
              "      <div>\n",
              "<style scoped>\n",
              "    .dataframe tbody tr th:only-of-type {\n",
              "        vertical-align: middle;\n",
              "    }\n",
              "\n",
              "    .dataframe tbody tr th {\n",
              "        vertical-align: top;\n",
              "    }\n",
              "\n",
              "    .dataframe thead th {\n",
              "        text-align: right;\n",
              "    }\n",
              "</style>\n",
              "<table border=\"1\" class=\"dataframe\">\n",
              "  <thead>\n",
              "    <tr style=\"text-align: right;\">\n",
              "      <th></th>\n",
              "      <th>age</th>\n",
              "      <th>education-num</th>\n",
              "      <th>hours-per-week</th>\n",
              "    </tr>\n",
              "  </thead>\n",
              "  <tbody>\n",
              "    <tr>\n",
              "      <th>count</th>\n",
              "      <td>32537.000000</td>\n",
              "      <td>32537.000000</td>\n",
              "      <td>32537.000000</td>\n",
              "    </tr>\n",
              "    <tr>\n",
              "      <th>mean</th>\n",
              "      <td>38.585549</td>\n",
              "      <td>10.081815</td>\n",
              "      <td>40.440329</td>\n",
              "    </tr>\n",
              "    <tr>\n",
              "      <th>std</th>\n",
              "      <td>13.637984</td>\n",
              "      <td>2.571633</td>\n",
              "      <td>12.346889</td>\n",
              "    </tr>\n",
              "    <tr>\n",
              "      <th>min</th>\n",
              "      <td>17.000000</td>\n",
              "      <td>1.000000</td>\n",
              "      <td>1.000000</td>\n",
              "    </tr>\n",
              "    <tr>\n",
              "      <th>25%</th>\n",
              "      <td>28.000000</td>\n",
              "      <td>9.000000</td>\n",
              "      <td>40.000000</td>\n",
              "    </tr>\n",
              "    <tr>\n",
              "      <th>50%</th>\n",
              "      <td>37.000000</td>\n",
              "      <td>10.000000</td>\n",
              "      <td>40.000000</td>\n",
              "    </tr>\n",
              "    <tr>\n",
              "      <th>75%</th>\n",
              "      <td>48.000000</td>\n",
              "      <td>12.000000</td>\n",
              "      <td>45.000000</td>\n",
              "    </tr>\n",
              "    <tr>\n",
              "      <th>max</th>\n",
              "      <td>90.000000</td>\n",
              "      <td>16.000000</td>\n",
              "      <td>99.000000</td>\n",
              "    </tr>\n",
              "  </tbody>\n",
              "</table>\n",
              "</div>\n",
              "      <button class=\"colab-df-convert\" onclick=\"convertToInteractive('df-1e8f12a6-344d-4b4f-9a3b-a2a22648bc0e')\"\n",
              "              title=\"Convert this dataframe to an interactive table.\"\n",
              "              style=\"display:none;\">\n",
              "        \n",
              "  <svg xmlns=\"http://www.w3.org/2000/svg\" height=\"24px\"viewBox=\"0 0 24 24\"\n",
              "       width=\"24px\">\n",
              "    <path d=\"M0 0h24v24H0V0z\" fill=\"none\"/>\n",
              "    <path d=\"M18.56 5.44l.94 2.06.94-2.06 2.06-.94-2.06-.94-.94-2.06-.94 2.06-2.06.94zm-11 1L8.5 8.5l.94-2.06 2.06-.94-2.06-.94L8.5 2.5l-.94 2.06-2.06.94zm10 10l.94 2.06.94-2.06 2.06-.94-2.06-.94-.94-2.06-.94 2.06-2.06.94z\"/><path d=\"M17.41 7.96l-1.37-1.37c-.4-.4-.92-.59-1.43-.59-.52 0-1.04.2-1.43.59L10.3 9.45l-7.72 7.72c-.78.78-.78 2.05 0 2.83L4 21.41c.39.39.9.59 1.41.59.51 0 1.02-.2 1.41-.59l7.78-7.78 2.81-2.81c.8-.78.8-2.07 0-2.86zM5.41 20L4 18.59l7.72-7.72 1.47 1.35L5.41 20z\"/>\n",
              "  </svg>\n",
              "      </button>\n",
              "      \n",
              "  <style>\n",
              "    .colab-df-container {\n",
              "      display:flex;\n",
              "      flex-wrap:wrap;\n",
              "      gap: 12px;\n",
              "    }\n",
              "\n",
              "    .colab-df-convert {\n",
              "      background-color: #E8F0FE;\n",
              "      border: none;\n",
              "      border-radius: 50%;\n",
              "      cursor: pointer;\n",
              "      display: none;\n",
              "      fill: #1967D2;\n",
              "      height: 32px;\n",
              "      padding: 0 0 0 0;\n",
              "      width: 32px;\n",
              "    }\n",
              "\n",
              "    .colab-df-convert:hover {\n",
              "      background-color: #E2EBFA;\n",
              "      box-shadow: 0px 1px 2px rgba(60, 64, 67, 0.3), 0px 1px 3px 1px rgba(60, 64, 67, 0.15);\n",
              "      fill: #174EA6;\n",
              "    }\n",
              "\n",
              "    [theme=dark] .colab-df-convert {\n",
              "      background-color: #3B4455;\n",
              "      fill: #D2E3FC;\n",
              "    }\n",
              "\n",
              "    [theme=dark] .colab-df-convert:hover {\n",
              "      background-color: #434B5C;\n",
              "      box-shadow: 0px 1px 3px 1px rgba(0, 0, 0, 0.15);\n",
              "      filter: drop-shadow(0px 1px 2px rgba(0, 0, 0, 0.3));\n",
              "      fill: #FFFFFF;\n",
              "    }\n",
              "  </style>\n",
              "\n",
              "      <script>\n",
              "        const buttonEl =\n",
              "          document.querySelector('#df-1e8f12a6-344d-4b4f-9a3b-a2a22648bc0e button.colab-df-convert');\n",
              "        buttonEl.style.display =\n",
              "          google.colab.kernel.accessAllowed ? 'block' : 'none';\n",
              "\n",
              "        async function convertToInteractive(key) {\n",
              "          const element = document.querySelector('#df-1e8f12a6-344d-4b4f-9a3b-a2a22648bc0e');\n",
              "          const dataTable =\n",
              "            await google.colab.kernel.invokeFunction('convertToInteractive',\n",
              "                                                     [key], {});\n",
              "          if (!dataTable) return;\n",
              "\n",
              "          const docLinkHtml = 'Like what you see? Visit the ' +\n",
              "            '<a target=\"_blank\" href=https://colab.research.google.com/notebooks/data_table.ipynb>data table notebook</a>'\n",
              "            + ' to learn more about interactive tables.';\n",
              "          element.innerHTML = '';\n",
              "          dataTable['output_type'] = 'display_data';\n",
              "          await google.colab.output.renderOutput(dataTable, element);\n",
              "          const docLink = document.createElement('div');\n",
              "          docLink.innerHTML = docLinkHtml;\n",
              "          element.appendChild(docLink);\n",
              "        }\n",
              "      </script>\n",
              "    </div>\n",
              "  </div>\n",
              "  "
            ]
          },
          "metadata": {},
          "execution_count": 32
        }
      ]
    },
    {
      "cell_type": "markdown",
      "source": [
        "# Part 3"
      ],
      "metadata": {
        "id": "-6tMBHjq546n"
      }
    },
    {
      "cell_type": "code",
      "source": [
        "# correlations\n",
        "corr = df.corr()\n",
        "sns.heatmap(corr, cmap='Blues', annot=True);"
      ],
      "metadata": {
        "id": "PK_hZymQjHXy",
        "outputId": "1491bfea-11c4-4f5d-c4f5-5464eb41e084",
        "colab": {
          "base_uri": "https://localhost:8080/",
          "height": 269
        }
      },
      "execution_count": null,
      "outputs": [
        {
          "output_type": "display_data",
          "data": {
            "text/plain": [
              "<Figure size 432x288 with 2 Axes>"
            ],
            "image/png": "[encoded data removed]"
          },
          "metadata": {
            "needs_background": "light"
          }
        }
      ]
    },
    {
      "cell_type": "markdown",
      "source": [
        "None of the features/target have moderate or strong correlations."
      ],
      "metadata": {
        "id": "hnW6yh-ikO9t"
      }
    },
    {
      "cell_type": "code",
      "source": [
        "import seaborn as sns"
      ],
      "metadata": {
        "id": "dyTIhkI2kJC7"
      },
      "execution_count": null,
      "outputs": []
    },
    {
      "cell_type": "code",
      "source": [
        "# df['salary'] = df['salary'].replace({'<=50K': 0, '>50K': 1}, regex=True)"
      ],
      "metadata": {
        "id": "ouXJqdqX-hC_"
      },
      "execution_count": null,
      "outputs": []
    },
    {
      "cell_type": "code",
      "source": [
        "df.head()"
      ],
      "metadata": {
        "colab": {
          "base_uri": "https://localhost:8080/",
          "height": 333
        },
        "id": "h9cn9l9e-0XE",
        "outputId": "4a0e2b50-c33b-45b1-d854-23f00809770d"
      },
      "execution_count": null,
      "outputs": [
        {
          "output_type": "execute_result",
          "data": {
            "text/plain": [
              "   age          workclass  education-num       marital-status  \\\n",
              "0   39          State-gov             13        Never-married   \n",
              "1   50   Self-emp-not-inc             13   Married-civ-spouse   \n",
              "2   38            Private              9             Divorced   \n",
              "3   53            Private              7   Married-civ-spouse   \n",
              "4   28            Private             13   Married-civ-spouse   \n",
              "\n",
              "           occupation    relationship    race      sex  hours-per-week  \\\n",
              "0        Adm-clerical   Not-in-family   White     Male              40   \n",
              "1     Exec-managerial         Husband   White     Male              13   \n",
              "2   Handlers-cleaners   Not-in-family   White     Male              40   \n",
              "3   Handlers-cleaners         Husband   Black     Male              40   \n",
              "4      Prof-specialty            Wife   Black   Female              40   \n",
              "\n",
              "   native-country  salary  \n",
              "0   United-States   <=50K  \n",
              "1   United-States   <=50K  \n",
              "2   United-States   <=50K  \n",
              "3   United-States   <=50K  \n",
              "4            Cuba   <=50K  "
            ],
            "text/html": [
              "\n",
              "  <div id=\"df-8df8fe53-bebc-4b8c-bbfa-01cb910e8352\">\n",
              "    <div class=\"colab-df-container\">\n",
              "      <div>\n",
              "<style scoped>\n",
              "    .dataframe tbody tr th:only-of-type {\n",
              "        vertical-align: middle;\n",
              "    }\n",
              "\n",
              "    .dataframe tbody tr th {\n",
              "        vertical-align: top;\n",
              "    }\n",
              "\n",
              "    .dataframe thead th {\n",
              "        text-align: right;\n",
              "    }\n",
              "</style>\n",
              "<table border=\"1\" class=\"dataframe\">\n",
              "  <thead>\n",
              "    <tr style=\"text-align: right;\">\n",
              "      <th></th>\n",
              "      <th>age</th>\n",
              "      <th>workclass</th>\n",
              "      <th>education-num</th>\n",
              "      <th>marital-status</th>\n",
              "      <th>occupation</th>\n",
              "      <th>relationship</th>\n",
              "      <th>race</th>\n",
              "      <th>sex</th>\n",
              "      <th>hours-per-week</th>\n",
              "      <th>native-country</th>\n",
              "      <th>salary</th>\n",
              "    </tr>\n",
              "  </thead>\n",
              "  <tbody>\n",
              "    <tr>\n",
              "      <th>0</th>\n",
              "      <td>39</td>\n",
              "      <td>State-gov</td>\n",
              "      <td>13</td>\n",
              "      <td>Never-married</td>\n",
              "      <td>Adm-clerical</td>\n",
              "      <td>Not-in-family</td>\n",
              "      <td>White</td>\n",
              "      <td>Male</td>\n",
              "      <td>40</td>\n",
              "      <td>United-States</td>\n",
              "      <td>&lt;=50K</td>\n",
              "    </tr>\n",
              "    <tr>\n",
              "      <th>1</th>\n",
              "      <td>50</td>\n",
              "      <td>Self-emp-not-inc</td>\n",
              "      <td>13</td>\n",
              "      <td>Married-civ-spouse</td>\n",
              "      <td>Exec-managerial</td>\n",
              "      <td>Husband</td>\n",
              "      <td>White</td>\n",
              "      <td>Male</td>\n",
              "      <td>13</td>\n",
              "      <td>United-States</td>\n",
              "      <td>&lt;=50K</td>\n",
              "    </tr>\n",
              "    <tr>\n",
              "      <th>2</th>\n",
              "      <td>38</td>\n",
              "      <td>Private</td>\n",
              "      <td>9</td>\n",
              "      <td>Divorced</td>\n",
              "      <td>Handlers-cleaners</td>\n",
              "      <td>Not-in-family</td>\n",
              "      <td>White</td>\n",
              "      <td>Male</td>\n",
              "      <td>40</td>\n",
              "      <td>United-States</td>\n",
              "      <td>&lt;=50K</td>\n",
              "    </tr>\n",
              "    <tr>\n",
              "      <th>3</th>\n",
              "      <td>53</td>\n",
              "      <td>Private</td>\n",
              "      <td>7</td>\n",
              "      <td>Married-civ-spouse</td>\n",
              "      <td>Handlers-cleaners</td>\n",
              "      <td>Husband</td>\n",
              "      <td>Black</td>\n",
              "      <td>Male</td>\n",
              "      <td>40</td>\n",
              "      <td>United-States</td>\n",
              "      <td>&lt;=50K</td>\n",
              "    </tr>\n",
              "    <tr>\n",
              "      <th>4</th>\n",
              "      <td>28</td>\n",
              "      <td>Private</td>\n",
              "      <td>13</td>\n",
              "      <td>Married-civ-spouse</td>\n",
              "      <td>Prof-specialty</td>\n",
              "      <td>Wife</td>\n",
              "      <td>Black</td>\n",
              "      <td>Female</td>\n",
              "      <td>40</td>\n",
              "      <td>Cuba</td>\n",
              "      <td>&lt;=50K</td>\n",
              "    </tr>\n",
              "  </tbody>\n",
              "</table>\n",
              "</div>\n",
              "      <button class=\"colab-df-convert\" onclick=\"convertToInteractive('df-8df8fe53-bebc-4b8c-bbfa-01cb910e8352')\"\n",
              "              title=\"Convert this dataframe to an interactive table.\"\n",
              "              style=\"display:none;\">\n",
              "        \n",
              "  <svg xmlns=\"http://www.w3.org/2000/svg\" height=\"24px\"viewBox=\"0 0 24 24\"\n",
              "       width=\"24px\">\n",
              "    <path d=\"M0 0h24v24H0V0z\" fill=\"none\"/>\n",
              "    <path d=\"M18.56 5.44l.94 2.06.94-2.06 2.06-.94-2.06-.94-.94-2.06-.94 2.06-2.06.94zm-11 1L8.5 8.5l.94-2.06 2.06-.94-2.06-.94L8.5 2.5l-.94 2.06-2.06.94zm10 10l.94 2.06.94-2.06 2.06-.94-2.06-.94-.94-2.06-.94 2.06-2.06.94z\"/><path d=\"M17.41 7.96l-1.37-1.37c-.4-.4-.92-.59-1.43-.59-.52 0-1.04.2-1.43.59L10.3 9.45l-7.72 7.72c-.78.78-.78 2.05 0 2.83L4 21.41c.39.39.9.59 1.41.59.51 0 1.02-.2 1.41-.59l7.78-7.78 2.81-2.81c.8-.78.8-2.07 0-2.86zM5.41 20L4 18.59l7.72-7.72 1.47 1.35L5.41 20z\"/>\n",
              "  </svg>\n",
              "      </button>\n",
              "      \n",
              "  <style>\n",
              "    .colab-df-container {\n",
              "      display:flex;\n",
              "      flex-wrap:wrap;\n",
              "      gap: 12px;\n",
              "    }\n",
              "\n",
              "    .colab-df-convert {\n",
              "      background-color: #E8F0FE;\n",
              "      border: none;\n",
              "      border-radius: 50%;\n",
              "      cursor: pointer;\n",
              "      display: none;\n",
              "      fill: #1967D2;\n",
              "      height: 32px;\n",
              "      padding: 0 0 0 0;\n",
              "      width: 32px;\n",
              "    }\n",
              "\n",
              "    .colab-df-convert:hover {\n",
              "      background-color: #E2EBFA;\n",
              "      box-shadow: 0px 1px 2px rgba(60, 64, 67, 0.3), 0px 1px 3px 1px rgba(60, 64, 67, 0.15);\n",
              "      fill: #174EA6;\n",
              "    }\n",
              "\n",
              "    [theme=dark] .colab-df-convert {\n",
              "      background-color: #3B4455;\n",
              "      fill: #D2E3FC;\n",
              "    }\n",
              "\n",
              "    [theme=dark] .colab-df-convert:hover {\n",
              "      background-color: #434B5C;\n",
              "      box-shadow: 0px 1px 3px 1px rgba(0, 0, 0, 0.15);\n",
              "      filter: drop-shadow(0px 1px 2px rgba(0, 0, 0, 0.3));\n",
              "      fill: #FFFFFF;\n",
              "    }\n",
              "  </style>\n",
              "\n",
              "      <script>\n",
              "        const buttonEl =\n",
              "          document.querySelector('#df-8df8fe53-bebc-4b8c-bbfa-01cb910e8352 button.colab-df-convert');\n",
              "        buttonEl.style.display =\n",
              "          google.colab.kernel.accessAllowed ? 'block' : 'none';\n",
              "\n",
              "        async function convertToInteractive(key) {\n",
              "          const element = document.querySelector('#df-8df8fe53-bebc-4b8c-bbfa-01cb910e8352');\n",
              "          const dataTable =\n",
              "            await google.colab.kernel.invokeFunction('convertToInteractive',\n",
              "                                                     [key], {});\n",
              "          if (!dataTable) return;\n",
              "\n",
              "          const docLinkHtml = 'Like what you see? Visit the ' +\n",
              "            '<a target=\"_blank\" href=https://colab.research.google.com/notebooks/data_table.ipynb>data table notebook</a>'\n",
              "            + ' to learn more about interactive tables.';\n",
              "          element.innerHTML = '';\n",
              "          dataTable['output_type'] = 'display_data';\n",
              "          await google.colab.output.renderOutput(dataTable, element);\n",
              "          const docLink = document.createElement('div');\n",
              "          docLink.innerHTML = docLinkHtml;\n",
              "          element.appendChild(docLink);\n",
              "        }\n",
              "      </script>\n",
              "    </div>\n",
              "  </div>\n",
              "  "
            ]
          },
          "metadata": {},
          "execution_count": 106
        }
      ]
    },
    {
      "cell_type": "code",
      "source": [
        "plt.figure(figsize=(10,5))\n",
        "plt.title('Hours Worked per Week by Race, Grouped by Salary')\n",
        "sns.barplot(x=df['race'], y=df['hours-per-week'], hue=df['salary'])\n",
        "plt.xlabel('Race')\n",
        "plt.ylabel('Hours per Week');"
      ],
      "metadata": {
        "colab": {
          "base_uri": "https://localhost:8080/",
          "height": 350
        },
        "id": "ZzUM85mZDmhQ",
        "outputId": "ddad47ae-1013-4300-84a6-3dde72fd9982"
      },
      "execution_count": null,
      "outputs": [
        {
          "output_type": "display_data",
          "data": {
            "text/plain": [
              "<Figure size 720x360 with 1 Axes>"
            ],
            "image/png": "[encoded data removed]"
          },
          "metadata": {
            "needs_background": "light"
          }
        }
      ]
    },
    {
      "cell_type": "markdown",
      "source": [
        "Regardless of race and salary class, people tend to work similar hours (<=50K work about 38-39 hours across all races, >50K work about 44-45 hours)"
      ],
      "metadata": {
        "id": "aZapVfo9ax5I"
      }
    },
    {
      "cell_type": "code",
      "source": [
        "plt.figure(figsize=(15,5))\n",
        "plt.title('Hours Worked per Week by Industry, Grouped by Salary')\n",
        "sns.barplot(x=df['workclass'], y=df['hours-per-week'], hue=df['salary'])\n",
        "plt.xlabel('Work Class')\n",
        "plt.ylabel('Hours per Week');"
      ],
      "metadata": {
        "colab": {
          "base_uri": "https://localhost:8080/",
          "height": 350
        },
        "id": "H33q-oxPEZdG",
        "outputId": "33060a7b-6ec2-4b60-eb7d-736d884b9ec6"
      },
      "execution_count": null,
      "outputs": [
        {
          "output_type": "display_data",
          "data": {
            "text/plain": [
              "<Figure size 1080x360 with 1 Axes>"
            ],
            "image/png": "[encoded data removed]"
          },
          "metadata": {
            "needs_background": "light"
          }
        }
      ]
    },
    {
      "cell_type": "markdown",
      "source": [
        "Disregarding the last 2 work categories (since they don't constitute pay), the more hours worked, the greater salary."
      ],
      "metadata": {
        "id": "nK8OkdpnbdxB"
      }
    },
    {
      "cell_type": "code",
      "source": [
        "plt.figure(figsize=(15,5))\n",
        "plt.title('Hours Worked per Week by Industry, Grouped by Sex')\n",
        "sns.barplot(x=df['workclass'], y=df['hours-per-week'], hue=df['sex'])\n",
        "plt.xlabel('Work Class')\n",
        "plt.ylabel('Hours per Week');"
      ],
      "metadata": {
        "colab": {
          "base_uri": "https://localhost:8080/",
          "height": 350
        },
        "id": "dwxhXEygI5_a",
        "outputId": "f57fbb09-21e2-439d-a70c-3c75679e0757"
      },
      "execution_count": null,
      "outputs": [
        {
          "output_type": "display_data",
          "data": {
            "text/plain": [
              "<Figure size 1080x360 with 1 Axes>"
            ],
            "image/png": "[encoded data removed]"
          },
          "metadata": {
            "needs_background": "light"
          }
        }
      ]
    },
    {
      "cell_type": "markdown",
      "source": [
        "Across all categories, men work more hours than women. The previous graph showed that more hours worked lead to more pay. Based on that observation, men are expected to make more than women. "
      ],
      "metadata": {
        "id": "gtLEzU9ZbvL_"
      }
    },
    {
      "cell_type": "code",
      "source": [
        "plt.figure(figsize=(15,5))\n",
        "plt.title('Years of Education per Work Category, Grouped by Salary')\n",
        "sns.barplot(x=df['workclass'], y=df['education-num'], hue=df['salary'])\n",
        "plt.xlabel('Work Class')\n",
        "plt.ylabel(\"Years of Education\");"
      ],
      "metadata": {
        "colab": {
          "base_uri": "https://localhost:8080/",
          "height": 350
        },
        "id": "8LWTiedJFOzp",
        "outputId": "cd769e2e-c941-4c6b-cd99-cef79f02c47c"
      },
      "execution_count": null,
      "outputs": [
        {
          "output_type": "display_data",
          "data": {
            "text/plain": [
              "<Figure size 1080x360 with 1 Axes>"
            ],
            "image/png": "[encoded data removed]"
          },
          "metadata": {
            "needs_background": "light"
          }
        }
      ]
    },
    {
      "cell_type": "markdown",
      "source": [
        "Disregarding the last 2 categories, the more educated you are, the higher your salary."
      ],
      "metadata": {
        "id": "onH1wQ_ocg8V"
      }
    },
    {
      "cell_type": "code",
      "source": [
        "plt.figure(figsize=(10,5))\n",
        "plt.title('Years of Education per Age, Grouped by Salary Classes')\n",
        "plt.xlabel('Age')\n",
        "plt.ylabel('# Years of Education')\n",
        "sns.scatterplot(df['age'], df['education-num'], hue=df['salary']);"
      ],
      "metadata": {
        "colab": {
          "base_uri": "https://localhost:8080/",
          "height": 404
        },
        "id": "r993FwwGJfhG",
        "outputId": "00311e22-b490-427f-e78e-8e597177a555"
      },
      "execution_count": null,
      "outputs": [
        {
          "output_type": "stream",
          "name": "stderr",
          "text": [
            "/usr/local/lib/python3.7/dist-packages/seaborn/_decorators.py:43: FutureWarning: Pass the following variables as keyword args: x, y. From version 0.12, the only valid positional argument will be `data`, and passing other arguments without an explicit keyword will result in an error or misinterpretation.\n",
            "  FutureWarning\n"
          ]
        },
        {
          "output_type": "display_data",
          "data": {
            "text/plain": [
              "<Figure size 720x360 with 1 Axes>"
            ],
            "image/png": "[encoded data removed]"
          },
          "metadata": {
            "needs_background": "light"
          }
        }
      ]
    },
    {
      "cell_type": "markdown",
      "source": [
        "Between ages 32-61, people with at least 13 years of education are likely to have greater than 50K salaries."
      ],
      "metadata": {
        "id": "9aYspZm3ZJKY"
      }
    },
    {
      "cell_type": "markdown",
      "source": [
        "# Part 4"
      ],
      "metadata": {
        "id": "ewvgsX8eJ7NU"
      }
    },
    {
      "cell_type": "code",
      "source": [
        "# need to scale and ohe data\n",
        "from sklearn.preprocessing import StandardScaler, OneHotEncoder\n",
        "from sklearn.pipeline import make_pipeline\n",
        "from sklearn.compose import make_column_selector, ColumnTransformer, make_column_transformer\n",
        "from sklearn.decomposition import PCA\n",
        "from sklearn.model_selection import train_test_split,GridSearchCV\n",
        "from sklearn.ensemble import BaggingClassifier"
      ],
      "metadata": {
        "id": "UVqF67YmKOfO"
      },
      "execution_count": 100,
      "outputs": []
    },
    {
      "cell_type": "code",
      "source": [
        "# split X/y\n",
        "X = df.drop('salary', axis=1)\n",
        "y = df['salary']"
      ],
      "metadata": {
        "id": "azct5cirjsG8"
      },
      "execution_count": 101,
      "outputs": []
    },
    {
      "cell_type": "code",
      "source": [
        "# col selectors\n",
        "numSelector = make_column_selector(dtype_include='number')\n",
        "catSelector = make_column_selector(dtype_include='object')\n",
        "\n",
        "# col transformer\n",
        "transformer = ColumnTransformer(transformers=[('scaler',StandardScaler(), \n",
        "                                  numSelector),\n",
        "                                 ('ohe', OneHotEncoder(handle_unknown='ignore'),\n",
        "                                  catSelector)], \n",
        "                                remainder='drop')"
      ],
      "metadata": {
        "id": "i8v9CAZhsgEj"
      },
      "execution_count": 102,
      "outputs": []
    },
    {
      "cell_type": "code",
      "source": [
        "# Using SMOTE to balance out target (adapted from https://towardsdatascience.com/applying-smote-for-class-imbalance-with-just-a-few-lines-of-code-python-cdf603e58688)\n",
        "from imblearn.over_sampling import SMOTE\n",
        "sm = SMOTE(random_state=42)\n",
        "X_trans = transformer.fit_transform(X)\n",
        "X_sm, y_sm = sm.fit_resample(X_trans, y)"
      ],
      "metadata": {
        "id": "oTjVD_IAsQgp"
      },
      "execution_count": 103,
      "outputs": []
    },
    {
      "cell_type": "code",
      "source": [
        "print(f'''Shape of X before SMOTE: {X_sm.shape}\n",
        "Shape of X after SMOTE: {X_sm.shape}''')\n",
        "\n",
        "print('\\nBalance of positive and negative classes (%):')\n",
        "y_sm.value_counts(normalize=True) * 100"
      ],
      "metadata": {
        "colab": {
          "base_uri": "https://localhost:8080/"
        },
        "id": "T_XKZISeskuf",
        "outputId": "6d94c6d5-b97c-483d-8285-528cab48efaa"
      },
      "execution_count": 104,
      "outputs": [
        {
          "output_type": "stream",
          "name": "stdout",
          "text": [
            "Shape of X before SMOTE: (49396, 89)\n",
            "Shape of X after SMOTE: (49396, 89)\n",
            "\n",
            "Balance of positive and negative classes (%):\n"
          ]
        },
        {
          "output_type": "execute_result",
          "data": {
            "text/plain": [
              " <=50K    50.0\n",
              " >50K     50.0\n",
              "Name: salary, dtype: float64"
            ]
          },
          "metadata": {},
          "execution_count": 104
        }
      ]
    },
    {
      "cell_type": "markdown",
      "source": [
        "target is now balanced."
      ],
      "metadata": {
        "id": "lmjjnUs4vyz3"
      }
    },
    {
      "cell_type": "code",
      "source": [
        "# train test split\n",
        "X_train, X_test, y_train, y_test = train_test_split(X_sm, y_sm, random_state=42)"
      ],
      "metadata": {
        "id": "Rj85Ziy3XgVC"
      },
      "execution_count": 105,
      "outputs": []
    },
    {
      "cell_type": "code",
      "source": [
        "# knn \n",
        "from sklearn.neighbors import KNeighborsClassifier\n",
        "knn = KNeighborsClassifier()\n",
        "knn.fit(X_train, y_train)\n",
        "print(knn.score(X_test, y_test))"
      ],
      "metadata": {
        "id": "91Zt-lCggqJI",
        "outputId": "803e2db1-17dd-4331-c6a4-84655e950ad3",
        "colab": {
          "base_uri": "https://localhost:8080/"
        }
      },
      "execution_count": 107,
      "outputs": [
        {
          "output_type": "stream",
          "name": "stdout",
          "text": [
            "0.8351283504737226\n"
          ]
        }
      ]
    },
    {
      "cell_type": "code",
      "source": [
        "# knn parameters\n",
        "knn.get_params()"
      ],
      "metadata": {
        "id": "TUHRfhbNvxsD",
        "outputId": "7573d83a-4ddc-44de-b335-567bfc5c0d1a",
        "colab": {
          "base_uri": "https://localhost:8080/"
        }
      },
      "execution_count": 108,
      "outputs": [
        {
          "output_type": "execute_result",
          "data": {
            "text/plain": [
              "{'algorithm': 'auto',\n",
              " 'leaf_size': 30,\n",
              " 'metric': 'minkowski',\n",
              " 'metric_params': None,\n",
              " 'n_jobs': None,\n",
              " 'n_neighbors': 5,\n",
              " 'p': 2,\n",
              " 'weights': 'uniform'}"
            ]
          },
          "metadata": {},
          "execution_count": 108
        }
      ]
    },
    {
      "cell_type": "code",
      "source": [
        "# hypertuning knn 1\n",
        "param_grid = {'n_neighbors': [2,5,10,15]}\n",
        "\n",
        "# instantiate gridsearch\n",
        "knnGridSearch = GridSearchCV(knn, param_grid)\n",
        "\n",
        "# fit data\n",
        "knnGridSearch.fit(X_train, y_train)\n",
        "\n",
        "# best parameters\n",
        "knnGridSearch.best_params_"
      ],
      "metadata": {
        "id": "ImmUWGZZFtHB",
        "outputId": "589cac6b-28b9-475d-84b5-931a9fc7c97e",
        "colab": {
          "base_uri": "https://localhost:8080/"
        }
      },
      "execution_count": 110,
      "outputs": [
        {
          "output_type": "execute_result",
          "data": {
            "text/plain": [
              "{'n_neighbors': 5}"
            ]
          },
          "metadata": {},
          "execution_count": 110
        }
      ]
    },
    {
      "cell_type": "code",
      "source": [
        "# hypertuning knn 2\n",
        "param_grid = {'n_neighbors': [15,20,25,30]}\n",
        "\n",
        "# instantiate gridsearch\n",
        "knnGridSearch = GridSearchCV(knn, param_grid)\n",
        "\n",
        "# fit data\n",
        "knnGridSearch.fit(X_train, y_train)\n",
        "\n",
        "# best parameters\n",
        "knnGridSearch.best_params_"
      ],
      "metadata": {
        "id": "qVBTqbFmFwGs",
        "outputId": "5ba3ce4d-cb91-402c-864f-b9afd1d7db0c",
        "colab": {
          "base_uri": "https://localhost:8080/"
        }
      },
      "execution_count": 111,
      "outputs": [
        {
          "output_type": "execute_result",
          "data": {
            "text/plain": [
              "{'n_neighbors': 15}"
            ]
          },
          "metadata": {},
          "execution_count": 111
        }
      ]
    },
    {
      "cell_type": "code",
      "source": [
        "# hypertuning knn 3\n",
        "param_grid = {'n_neighbors': [30,40,50]}\n",
        "\n",
        "# instantiate gridsearch\n",
        "knnGridSearch = GridSearchCV(knn, param_grid)\n",
        "\n",
        "# fit data\n",
        "knnGridSearch.fit(X_train, y_train)\n",
        "\n",
        "# best parameters\n",
        "knnGridSearch.best_params_"
      ],
      "metadata": {
        "id": "kTrVGVWqweG-",
        "outputId": "a6568e66-5045-444b-a57d-92a3e77fb335",
        "colab": {
          "base_uri": "https://localhost:8080/"
        }
      },
      "execution_count": 112,
      "outputs": [
        {
          "output_type": "execute_result",
          "data": {
            "text/plain": [
              "{'n_neighbors': 30}"
            ]
          },
          "metadata": {},
          "execution_count": 112
        }
      ]
    },
    {
      "cell_type": "code",
      "source": [
        "# metrics for n_neighbors=15\n",
        "from sklearn.neighbors import KNeighborsClassifier\n",
        "knn15 = KNeighborsClassifier(n_neighbors=15)\n",
        "knn15.fit(X_train, y_train)\n",
        "print(knn15.score(X_test, y_test))\n",
        "# accuracy decreased from 83.51 to 82.51"
      ],
      "metadata": {
        "id": "DWCAiO5_1waF",
        "outputId": "d521be42-883d-4a39-dd22-6e7ac6add0d6",
        "colab": {
          "base_uri": "https://localhost:8080/"
        }
      },
      "execution_count": 113,
      "outputs": [
        {
          "output_type": "stream",
          "name": "stdout",
          "text": [
            "0.8250870515831241\n"
          ]
        }
      ]
    },
    {
      "cell_type": "code",
      "source": [
        "# metrics for n_neighbors=30\n",
        "from sklearn.neighbors import KNeighborsClassifier\n",
        "knn30 = KNeighborsClassifier(n_neighbors=30)\n",
        "knn30.fit(X_train, y_train)\n",
        "print(knn30.score(X_test, y_test))\n",
        "# accuracy decreased from 83.51 to 81.76"
      ],
      "metadata": {
        "id": "yIpITtcX2iDB",
        "outputId": "5de2fa8f-832a-4db9-a0df-28a217d8ee33",
        "colab": {
          "base_uri": "https://localhost:8080/"
        }
      },
      "execution_count": 114,
      "outputs": [
        {
          "output_type": "stream",
          "name": "stdout",
          "text": [
            "0.817637055632035\n"
          ]
        }
      ]
    },
    {
      "cell_type": "code",
      "source": [
        "# logistic regression\n",
        "from sklearn.linear_model import LogisticRegression\n",
        "lr = LogisticRegression()\n",
        "lr.fit(X_train, y_train)\n",
        "print(lr.score(X_test, y_test))"
      ],
      "metadata": {
        "id": "w9OYU0YmtX2Z",
        "outputId": "c52e5c66-1cae-4603-f731-9df1d211e5dd",
        "colab": {
          "base_uri": "https://localhost:8080/"
        }
      },
      "execution_count": 116,
      "outputs": [
        {
          "output_type": "stream",
          "name": "stdout",
          "text": [
            "0.8110778200664022\n"
          ]
        },
        {
          "output_type": "stream",
          "name": "stderr",
          "text": [
            "/usr/local/lib/python3.7/dist-packages/sklearn/linear_model/_logistic.py:818: ConvergenceWarning: lbfgs failed to converge (status=1):\n",
            "STOP: TOTAL NO. of ITERATIONS REACHED LIMIT.\n",
            "\n",
            "Increase the number of iterations (max_iter) or scale the data as shown in:\n",
            "    https://scikit-learn.org/stable/modules/preprocessing.html\n",
            "Please also refer to the documentation for alternative solver options:\n",
            "    https://scikit-learn.org/stable/modules/linear_model.html#logistic-regression\n",
            "  extra_warning_msg=_LOGISTIC_SOLVER_CONVERGENCE_MSG,\n"
          ]
        }
      ]
    },
    {
      "cell_type": "code",
      "source": [
        "# create a list of c values and empty lists for scores\n",
        "import matplotlib.pyplot as plt\n",
        "c_values = [0.0001, 0.001, 0.01, 0.1, 1, 10, 100, 1000]\n",
        "train_scores = []\n",
        "test_scores = []\n",
        "#iterative over the c values\n",
        "for c in c_values:\n",
        " \n",
        "  # instantiate a model with each value of c and fit it on the data\n",
        "  logreg = LogisticRegression(C=c, max_iter=1000, solver='liblinear', penalty='l1')\n",
        "  logreg.fit(X_train, y_train)\n",
        " \n",
        "  # add the training and testing scores to our scores lists\n",
        "  train_scores.append(logreg.score(X_train, y_train))\n",
        "  test_scores.append(logreg.score(X_test, y_test))\n",
        " \n",
        "#plot the change in accuracy as we change the value of C\n",
        "fig, ax = plt.subplots(1,1)\n",
        "ax.plot(c_values, train_scores, label='Training Accuracy', marker='.')\n",
        "ax.plot(c_values, test_scores, label='Testing Accuracy', marker='+')\n",
        "ax.set_xticks(c_values)\n",
        "ax.set_title('Change in accuracy over C values for l1 regularization')\n",
        "ax.legend()\n",
        " \n",
        "#set the x axis to a logarithmic scale to show the values of C in even intervals\n",
        "ax.set_xscale('log')\n",
        "# print a dictionary of values of C and accuracy scores\n",
        "{c:score for c, score in zip(c_values, test_scores)}"
      ],
      "metadata": {
        "id": "ImWF8CcF6XKe",
        "outputId": "4674b3c9-dbe5-4a7d-eb48-cc08590cc56d",
        "colab": {
          "base_uri": "https://localhost:8080/",
          "height": 421
        }
      },
      "execution_count": 117,
      "outputs": [
        {
          "output_type": "execute_result",
          "data": {
            "text/plain": [
              "{0.0001: 0.5005263584095878,\n",
              " 0.001: 0.791562069803223,\n",
              " 0.01: 0.803870758765892,\n",
              " 0.1: 0.8097821685966475,\n",
              " 1: 0.8110778200664022,\n",
              " 10: 0.8109968418495425,\n",
              " 100: 0.8108348854158232,\n",
              " 1000: 0.8108348854158232}"
            ]
          },
          "metadata": {},
          "execution_count": 117
        },
        {
          "output_type": "display_data",
          "data": {
            "text/plain": [
              "<Figure size 432x288 with 1 Axes>"
            ],
            "image/png": "[encoded data removed]"
          },
          "metadata": {
            "needs_background": "light"
          }
        }
      ]
    },
    {
      "cell_type": "markdown",
      "source": [
        "best model at c=1 (accuracy 81.11%)"
      ],
      "metadata": {
        "id": "yIjfOw2cGrZF"
      }
    },
    {
      "cell_type": "code",
      "source": [
        "# final knn\n",
        "knnFinal = KNeighborsClassifier(n_neighbors=5)\n",
        "knnFinal.fit(X_train, y_train)\n",
        "print(knnFinal.score(X_test, y_test))"
      ],
      "metadata": {
        "id": "7-E0Q5LOPJLJ",
        "outputId": "0950d62a-bce5-4dc7-9784-0e629f2193f6",
        "colab": {
          "base_uri": "https://localhost:8080/"
        }
      },
      "execution_count": 127,
      "outputs": [
        {
          "output_type": "stream",
          "name": "stdout",
          "text": [
            "0.8351283504737226\n"
          ]
        }
      ]
    },
    {
      "cell_type": "code",
      "source": [
        "# final logreg\n",
        "lrFinal = LogisticRegression(C=1, max_iter=1000, \n",
        "                            solver='liblinear', \n",
        "                            penalty='l1')\n",
        "lrFinal.fit(X_train, y_train)\n",
        "print(lrFinal.score(X_test, y_test))"
      ],
      "metadata": {
        "id": "MSjPIaOjIx1y",
        "outputId": "b8f8bbe7-a27b-4e45-e679-359fe6c34a0d",
        "colab": {
          "base_uri": "https://localhost:8080/"
        }
      },
      "execution_count": 122,
      "outputs": [
        {
          "output_type": "stream",
          "name": "stdout",
          "text": [
            "0.8111587982832618\n"
          ]
        }
      ]
    },
    {
      "cell_type": "code",
      "source": [
        "# classification report for knn\n",
        "from sklearn.metrics import classification_report\n",
        "\n",
        "# knn predictions\n",
        "knnTrainPred = knn.predict(X_train)\n",
        "knnTestPred = knn.predict(X_test)\n",
        "\n",
        "# print metrics\n",
        "print(classification_report(y_train, knnTrainPred))\n",
        "print(classification_report(y_test, knnTestPred))"
      ],
      "metadata": {
        "id": "Hyb9jSCK-Yvl",
        "outputId": "a5ae95c6-47b1-443a-c957-0a193ffd5f3a",
        "colab": {
          "base_uri": "https://localhost:8080/"
        }
      },
      "execution_count": 120,
      "outputs": [
        {
          "output_type": "stream",
          "name": "stdout",
          "text": [
            "              precision    recall  f1-score   support\n",
            "\n",
            "       <=50K       0.93      0.83      0.88     18517\n",
            "        >50K       0.85      0.94      0.89     18530\n",
            "\n",
            "    accuracy                           0.89     37047\n",
            "   macro avg       0.89      0.89      0.88     37047\n",
            "weighted avg       0.89      0.89      0.88     37047\n",
            "\n",
            "              precision    recall  f1-score   support\n",
            "\n",
            "       <=50K       0.89      0.77      0.82      6181\n",
            "        >50K       0.80      0.90      0.85      6168\n",
            "\n",
            "    accuracy                           0.84     12349\n",
            "   macro avg       0.84      0.84      0.83     12349\n",
            "weighted avg       0.84      0.84      0.83     12349\n",
            "\n"
          ]
        }
      ]
    },
    {
      "cell_type": "code",
      "source": [
        "# classification report for logreg\n",
        "# logreg predictions\n",
        "lrTrainPred = lrFinal.predict(X_train)\n",
        "lrTestPred = lrFinal.predict(X_test)\n",
        "\n",
        "# print metrics\n",
        "print(classification_report(y_train, lrTrainPred))\n",
        "print(classification_report(y_test, lrTestPred))"
      ],
      "metadata": {
        "id": "HL8JHd7TImYU",
        "outputId": "85ed64c8-e68c-43f7-8097-920b6ec2cbac",
        "colab": {
          "base_uri": "https://localhost:8080/"
        }
      },
      "execution_count": 123,
      "outputs": [
        {
          "output_type": "stream",
          "name": "stdout",
          "text": [
            "              precision    recall  f1-score   support\n",
            "\n",
            "       <=50K       0.84      0.78      0.81     18517\n",
            "        >50K       0.79      0.85      0.82     18530\n",
            "\n",
            "    accuracy                           0.81     37047\n",
            "   macro avg       0.82      0.81      0.81     37047\n",
            "weighted avg       0.82      0.81      0.81     37047\n",
            "\n",
            "              precision    recall  f1-score   support\n",
            "\n",
            "       <=50K       0.84      0.77      0.80      6181\n",
            "        >50K       0.79      0.85      0.82      6168\n",
            "\n",
            "    accuracy                           0.81     12349\n",
            "   macro avg       0.81      0.81      0.81     12349\n",
            "weighted avg       0.81      0.81      0.81     12349\n",
            "\n"
          ]
        }
      ]
    },
    {
      "cell_type": "code",
      "source": [
        "from sklearn.metrics import ConfusionMatrixDisplay\n",
        "# knn confusion matrix\n",
        "ConfusionMatrixDisplay.from_predictions(y_test, knnTestPred)"
      ],
      "metadata": {
        "id": "MOyZawSoJvnQ",
        "outputId": "4143a103-5c08-4fac-e94f-e68ce1643cc0",
        "colab": {
          "base_uri": "https://localhost:8080/",
          "height": 296
        }
      },
      "execution_count": 124,
      "outputs": [
        {
          "output_type": "execute_result",
          "data": {
            "text/plain": [
              "<sklearn.metrics._plot.confusion_matrix.ConfusionMatrixDisplay at 0x7fb479502b90>"
            ]
          },
          "metadata": {},
          "execution_count": 124
        },
        {
          "output_type": "display_data",
          "data": {
            "text/plain": [
              "<Figure size 432x288 with 2 Axes>"
            ],
            "image/png": "[encoded data removed]"
          },
          "metadata": {
            "needs_background": "light"
          }
        }
      ]
    },
    {
      "cell_type": "code",
      "source": [
        "# logistic regression confusion matrix\n",
        "ConfusionMatrixDisplay.from_predictions(y_test, lrTestPred)"
      ],
      "metadata": {
        "id": "2REjD0FMKCmN",
        "outputId": "844ffafc-86a6-4bd5-e04b-5e074b30f222",
        "colab": {
          "base_uri": "https://localhost:8080/",
          "height": 296
        }
      },
      "execution_count": 125,
      "outputs": [
        {
          "output_type": "execute_result",
          "data": {
            "text/plain": [
              "<sklearn.metrics._plot.confusion_matrix.ConfusionMatrixDisplay at 0x7fb4795022d0>"
            ]
          },
          "metadata": {},
          "execution_count": 125
        },
        {
          "output_type": "display_data",
          "data": {
            "text/plain": [
              "<Figure size 432x288 with 2 Axes>"
            ],
            "image/png": "[encoded data removed]"
          },
          "metadata": {
            "needs_background": "light"
          }
        }
      ]
    },
    {
      "cell_type": "markdown",
      "source": [
        "Previously, the target set was found to be poorly balanced (75/25 ratio). I used SMOTE to balance the target and it was updated to a 50/50 ratio. Therefore, accuracy could be taken at face value. However, precision and recall also provide valuable insights.\n",
        "The KNN and logistic regression models had similar metrics, but overall, KNN performed better than logistic regression.Therefore, my final model will be KNN."
      ],
      "metadata": {
        "id": "Ga7X96cYJQMp"
      }
    },
    {
      "cell_type": "code",
      "source": [
        ""
      ],
      "metadata": {
        "id": "lV--uVSotxqv"
      },
      "execution_count": null,
      "outputs": []
    }
  ]
}